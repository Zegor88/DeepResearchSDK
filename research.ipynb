{
 "cells": [
  {
   "cell_type": "code",
   "execution_count": 51,
   "metadata": {},
   "outputs": [],
   "source": [
    "from agents import Agent, WebSearchTool, trace, Runner, function_tool\n",
    "from agents.model_settings import ModelSettings\n",
    "from IPython.display import display, Markdown\n",
    "from dotenv import load_dotenv\n",
    "from datetime import datetime\n",
    "from pydantic import BaseModel, Field\n",
    "from typing import Dict, Any\n",
    "import requests\n",
    "import asyncio\n",
    "import os"
   ]
  },
  {
   "cell_type": "code",
   "execution_count": null,
   "metadata": {},
   "outputs": [],
   "source": [
    "load_dotenv(override=True)\n",
    "PERPLEXITY_API_KEY = os.getenv(\"PERPLEXITY_API_KEY\")\n",
    "print(PERPLEXITY_API_KEY[:5] + \"...\")\n",
    "OPENAI_API_KEY = os.getenv(\"OPENAI_API_KEY\")\n",
    "print(OPENAI_API_KEY[:8] + \"...\")"
   ]
  },
  {
   "cell_type": "code",
   "execution_count": null,
   "metadata": {},
   "outputs": [],
   "source": [
    "# in format \"June 2025\"\n",
    "current_date = datetime.now().strftime(\"%B %Y\")\n",
    "print(current_date)\n"
   ]
  },
  {
   "cell_type": "markdown",
   "metadata": {},
   "source": [
    "### Initial Researcher"
   ]
  },
  {
   "cell_type": "code",
   "execution_count": 56,
   "metadata": {},
   "outputs": [],
   "source": [
    "INITIAL_RESEARCH_INSTRUCTIONS = \"\"\"\n",
    " You are a research assistant. \n",
    " Given a search term, you search the web for that term and produce a concise report of the results at the current date - {current_date}. \n",
    " The summary must 2-3 paragraphs and less than 500 words. \n",
    " Write succintly, no need to have complete sentences or good grammar. \n",
    " This will be consumed by someone synthesizing a report, so it's vital you capture the essence and ignore any fluff. \n",
    " Do not include any additional commentary other than the summary itself.\n",
    "\n",
    " Report should capture the main points: \n",
    " ## Company Snapshot (1-2 paragraphs)\n",
    " ## Development Timeline (major milestones)\n",
    " ## Key People (founders, team, advisors, etc.)\n",
    " ## Products & Technology (key productes, servises, offers and technologies with description and main use cases)\n",
    " ## Business Model & Monetization (how they make money: payment plans, B2B/B2C channels, unit-economics)\n",
    " ## Tokenomics (if applicable)\n",
    " ## Market Position & Competition (Target Segments, Benchmarked competitors, Competitive Moat & KPIs)\n",
    " ## Partnerships & Clients (list of Tier-1 partners, integrations, cast-offs)\n",
    " ## Roadmap & Strategic Orientation (if available)\n",
    "\"\"\"\n",
    "\n",
    "initial_research_agent = Agent(\n",
    "    name=\"Initial research agent\",\n",
    "    instructions=INITIAL_RESEARCH_INSTRUCTIONS,\n",
    "    tools=[WebSearchTool(search_context_size=\"low\")],\n",
    "    model=\"gpt-4o-mini\",\n",
    "    model_settings=ModelSettings(tool_choice=\"required\"),\n",
    ")"
   ]
  },
  {
   "cell_type": "code",
   "execution_count": null,
   "metadata": {},
   "outputs": [],
   "source": [
    "message = \"Broxus (https://www.broxus.com/)\"\n",
    "\n",
    "with trace(\"DeepResearch\"):\n",
    "    init_research_result = await Runner.run(initial_research_agent, message)\n",
    "\n",
    "display(Markdown(init_research_result.final_output))"
   ]
  },
  {
   "cell_type": "markdown",
   "metadata": {},
   "source": [
    "### Planner"
   ]
  },
  {
   "cell_type": "code",
   "execution_count": 40,
   "metadata": {},
   "outputs": [],
   "source": [
    "PLANNER_INSTRUCTIONS = f\"\"\"\n",
    "You are Principal Research Lead.\n",
    "Your goal is to create a detailed plan for subagents based on the initial research report (<initial_research_report>) from Search agent (date of analysis - {current_date}). \n",
    "Your task is to analyze the report, identify the key topics and create a detailed plan for subagents, which will cover all the critical aspects.\n",
    "\n",
    "**Контекст:**  \n",
    "Research Leader provided a brief report (<initial_research_report>) with basic information about the project or person, including description, positioning, key people, metrics, and partnerships. \n",
    "Your task is to turn this overview into a detailed research plan, covering all critical aspects and eliminating the identified gaps.\n",
    "\n",
    "**Instructions (Chain of Thoughts):**\n",
    "\n",
    "**Step 1. Analysis of the provided report**\n",
    "Extract the key blocks from the report:\n",
    " ## Company Snapshot\n",
    " ## Development Timeline\n",
    " ## Key People \n",
    " ## Products & Technology\n",
    " ## Business Model & Monetization\n",
    " ## Tokenomics\n",
    " ## Market Position & Competition\n",
    " ## Partnerships & Clients\n",
    " ## Roadmap & Strategic Orientation\n",
    "\n",
    "**Step 2. Formulating sections (multi-agent approach):**  \n",
    "For each section:\n",
    "- Write a detailed `research_prompt` queries that will help fill the gaps in the <initial_research_report> (in the style of a manual), including:  \n",
    "  • specific tasks and questions,  \n",
    "  • connection with information from the initial report,  \n",
    "  • types of data to find (with examples),  \n",
    "  • requirement to update data on - {current_date},  \n",
    "  • instructions for formatting sources,  \n",
    "  • explanation of how this block is related to the overall research  \n",
    "\n",
    "  For each deficiency:\n",
    "  - Break down the missing elements into specific searchable items\n",
    "  - Create targeted search queries that will yield relevant results\n",
    "  - Include clear reasoning for each search query\n",
    "  - Focus on authoritative sources and recent information\n",
    "\n",
    "\n",
    "**Step 3. Verification and structuring (Chain of Verification):**  \n",
    "- Make sure each section contains a complete and meaningful `prompt`  \n",
    "- The title and questions correspond to the content  \n",
    "- There are no less than 3 and no more than 10 questions\n",
    "- Specify the requirements for sources  \n",
    "\n",
    "**Restrictions:**  \n",
    "- Do not use generalized/vague formulations   \n",
    "- Each block must be self-sufficient, complete, and ready for the assistant to work  \n",
    "\n",
    "**Important:**  \n",
    "For search, use the most up-to-date information on the current date - {current_date}. \n",
    "At the beginning and end of the work, remind yourself of the task goal — to create a **structured, reproducible, and scalable plan**, \n",
    "sufficient for launching research work within the team.\n",
    "\"\"\"\n",
    "\n",
    "class WebSearchItem(BaseModel):\n",
    "    reason: str = Field(description=\"Your reasoning for why this search is important to the query.\")\n",
    "    query: str = Field(description=\"The search term to use for the web search.\")\n",
    "\n",
    "class WebSearchPlan(BaseModel):\n",
    "    searches: list[WebSearchItem] = Field(description=\"A list of web searches to perform to best answer the query.\")\n",
    "\n",
    "planner_agent = Agent(\n",
    "    name=\"PlannerAgent\",\n",
    "    instructions=PLANNER_INSTRUCTIONS,\n",
    "    model=\"gpt-4o-mini\",\n",
    "    output_type=WebSearchPlan,\n",
    ")"
   ]
  },
  {
   "cell_type": "code",
   "execution_count": null,
   "metadata": {},
   "outputs": [],
   "source": [
    "with trace(\"DeepResearch\"):\n",
    "    planner_result = await Runner.run(planner_agent, init_research_result.final_output)\n",
    "    print(planner_result.final_output)"
   ]
  },
  {
   "cell_type": "code",
   "execution_count": null,
   "metadata": {},
   "outputs": [],
   "source": [
    "for i in planner_result.final_output.searches:\n",
    "    print(i)"
   ]
  },
  {
   "cell_type": "markdown",
   "metadata": {},
   "source": [
    "### Deep Researcher"
   ]
  },
  {
   "cell_type": "code",
   "execution_count": 43,
   "metadata": {},
   "outputs": [],
   "source": [
    "@function_tool\n",
    "def get_perplexity_response(query: str) -> str:\n",
    "    \"\"\"Perform a search on the web using Perplexity API and return the response content.\n",
    "    Args:\n",
    "        query: The query to search for.\n",
    "    Returns:\n",
    "        The content of the search result as a string.\n",
    "    \"\"\"\n",
    "\n",
    "    perplexity_system_prompt = f\"\"\"\n",
    "    You are a helpful AI assistant\n",
    "    Rules:\n",
    "    1. Provide only the final answer. It is important that you do not include any explanation on the steps below.\n",
    "    2. Do not show the intermediate steps information.\n",
    "    3. For search, use the most up-to-date information on the current date - {current_date}.\n",
    "    Steps:\n",
    "    1. Decide if the answer should be a brief sentence or a list of suggestions.\n",
    "    2. If it is a list of suggestions, first, write a brief and natural introduction based on the original query.\n",
    "    3. Followed by a list of suggestions, each suggestion should be split by two newlines.\n",
    "    \"\"\"\n",
    "    \n",
    "    url = \"https://api.perplexity.ai/chat/completions\"\n",
    "\n",
    "    payload = {\n",
    "        \"model\": \"sonar\",\n",
    "        \"messages\": [\n",
    "            {\n",
    "                \"role\": \"system\",\n",
    "                \"content\": perplexity_system_prompt\n",
    "            },\n",
    "            {\n",
    "                \"role\": \"user\",\n",
    "                \"content\": query\n",
    "            }\n",
    "        ]\n",
    "    }\n",
    "    headers = {\n",
    "        \"Authorization\": f\"Bearer {PERPLEXITY_API_KEY}\",\n",
    "        \"Content-Type\": \"application/json\"\n",
    "    }\n",
    "\n",
    "    response = requests.post(url, headers=headers, json=payload).json()\n",
    "\n",
    "    # Добавим проверку на ошибки от API\n",
    "    if 'error' in response:\n",
    "        return f\"API Error: {response['error'].get('message', 'Unknown error')}\"\n",
    "\n",
    "    # Безопасно извлекаем контент\n",
    "    try:\n",
    "        content = response['choices'][0]['message']['content']\n",
    "        citation = response['search_results']\n",
    "        output = {\n",
    "            \"content\": content,\n",
    "            \"citation\": citation\n",
    "        }\n",
    "    except (KeyError, IndexError):\n",
    "        return \"Error: Could not parse the response from the API.\"\n",
    "\n",
    "    return output"
   ]
  },
  {
   "cell_type": "code",
   "execution_count": null,
   "metadata": {},
   "outputs": [],
   "source": [
    "get_perplexity_response"
   ]
  },
  {
   "cell_type": "code",
   "execution_count": 64,
   "metadata": {},
   "outputs": [],
   "source": [
    "INSTRUCTIONS = \"\"\"\n",
    " You are a research assistant. \n",
    " Given a search term, by using get_perplexity_response, you search the web for that term and produce a concise report of the results. \n",
    " Use the get_perplexity_response tool at least 2 times.\n",
    " Write succintly, no need to have complete sentences or good grammar. \n",
    " This will be consumed by someone synthesizing a report, so it's vital you capture the essence and ignore any fluff. \n",
    " Do not include any additional commentary other than the summary itself.\n",
    " \n",
    " Citation:\n",
    " Ensure that each fact in the article is supported by an embedded citation, all links are accurate and active, and the article ends with a single, correct, and sorted \"Sources\" section.\n",
    "- Ensure that **each factual statement** is supported by an embedded citation (e.g., `[Source](URL)`), confirming exactly that fact.  \n",
    "- It is allowed to format the link in the text through formulations: \"according to [source](URL)\", \"in accordance with [source](URL)\" and others.  \n",
    "\n",
    " Best Practices for Prompting Web Search Models:\n",
    " - Be Specific and Contextual: Unlike traditional LLMs, our web search models require specificity to retrieve relevant search results. Adding just 2-3 extra words of context can dramatically improve performance.\n",
    "    - Good Example: “Explain recent advances in climate prediction models for urban planning”\n",
    "    - Poor Example: “Tell me about climate models”\n",
    " - Avoid Few-Shot Prompting: While few-shot prompting works well for traditional LLMs, it confuses web search models by triggering searches for your examples rather than your actual query.\n",
    "    - Good Example: “Summarize the current research on mRNA vaccine technology”\n",
    "    - Poor Example: “Here’s an example of a good summary about vaccines: [example text]. Now summarize the current research on mRNA vaccines.”\n",
    " - Think Like a Web Search User: Craft prompts with search-friendly terms that would appear on relevant web pages. Consider how experts in the field would describe the topic online.\n",
    "    - Good Example: “Compare the energy efficiency ratings of heat pumps vs. traditional HVAC systems for residential use”\n",
    "    - Poor Example: “Tell me which home heating is better”\n",
    " - Provide Relevant Context: Include critical context to guide the web search toward the most relevant content, but keep prompts concise and focused.\n",
    "    - Good Example: “Explain the impact of the 2023 EU digital markets regulations on app store competition for small developers”\n",
    "    - Poor Example: “What are the rules for app stores?”\n",
    "\"\"\"\n",
    "\n",
    "tools=[get_perplexity_response]\n",
    "\n",
    "search_agent = Agent(\n",
    "    name=\"Search agent\",\n",
    "    instructions=INSTRUCTIONS,\n",
    "    tools=tools,\n",
    "    model=\"gpt-4o-mini\",\n",
    "    model_settings=ModelSettings(tool_choice=\"required\"),\n",
    ")"
   ]
  },
  {
   "cell_type": "code",
   "execution_count": null,
   "metadata": {},
   "outputs": [],
   "source": [
    "example = planner_result.final_output.searches[0]\n",
    "query = \"The query is: \" + example.query + \"\\n\\n\" + \"The reason of the query is: \" + example.reason\n",
    "query\n"
   ]
  },
  {
   "cell_type": "code",
   "execution_count": null,
   "metadata": {},
   "outputs": [],
   "source": [
    "with trace(\"Search\"):\n",
    "    deep_search_result = await Runner.run(search_agent, query)\n",
    "\n",
    "display(Markdown(deep_search_result.final_output))"
   ]
  },
  {
   "cell_type": "markdown",
   "metadata": {},
   "source": [
    "### Writer"
   ]
  },
  {
   "cell_type": "code",
   "execution_count": 58,
   "metadata": {},
   "outputs": [],
   "source": [
    "WRITER_INSTRUCTIONS = (\"\"\"\n",
    "    You are a senior researcher tasked with writing a cohesive report for a research query. \n",
    "    You will be provided with the original query, and some initial research done by a research assistant.\n",
    "    You should first come up with an outline for the report that describes the structure and \n",
    "    flow of the report. Then, generate the report and return that as your final output.\n",
    "    The final output should be in markdown format, and it should be lengthy and detailed. \n",
    "    Aim for 3-4 pages of content, at least 1000 words.\n",
    "                \n",
    "    For the report, follow the structure:\n",
    "      ## Steps of execution (managed chain of verification):\n",
    "\n",
    "      **Step 1. Language correction**  \n",
    "      - Correct grammatical, punctuation, spelling, and syntactic errors.  \n",
    "      - Ensure consistency in case, tense, subject-verb agreement, and correct endings.\n",
    "\n",
    "      **Step 2. Improvement of style and readability**  \n",
    "      - Rewrite complex or heavyweight phrases for better clarity.  \n",
    "      - Improve the coherence between sentences and paragraphs.  \n",
    "      - Remove repetitions, redundant introductory constructions, and bureaucratic language.\n",
    "      - Ensure that the description of the topic is fully developed and there are no gaps in understanding.\n",
    "\n",
    "      **Step 3. Maintaining a professional tone**  \n",
    "      - Maintain a consistent, professional, and analytical-neutral style.  \n",
    "      - Avoid conversational or inappropriate emotional expressions.\n",
    "\n",
    "      **Step 4. Verification (Chain of Verification)**  \n",
    "      After making changes, ensure:  \n",
    "      - Citations (in the format `[Text](URL)`) remain **unchanged**  \n",
    "      - No numerical values, facts, names, dates, projects, organizations were distorted  \n",
    "      - The logic of citation and the fact-to-source link is preserved  \n",
    "      - Any formulations explicitly taken from the source remain unchanged  \n",
    "      ❗ If you accidentally made changes to the citation or fact, return the original formulation.\n",
    "\n",
    "      **Reminder:**  \n",
    "      Your work is **exclusively** about improving the language and style.  \n",
    "      **No facts, numbers, citations, sources, hyperlinks should be changed.**\n",
    "\n",
    "    Mandatory formatting:\n",
    "      **1. Semantic structure of headings**  \n",
    "      - Check the hierarchy of headings:  \n",
    "        `#` — document title, `##` — main sections, `###` — subsections.  \n",
    "      - Ensure the logical structure of the document: no missing levels, nesting is observed.\n",
    "\n",
    "      **2. Content formatting**  \n",
    "      - Check that all lists are formatted correctly (`-` or `1.`), nested lists are readable.  \n",
    "      - Quotes are formatted with `>` or embedded links `[text](URL)`.  \n",
    "      - Code blocks (if any) are wrapped in triple backticks `` ``` `` with the language (if applicable).  \n",
    "      - Subheadings, paragraphs, intervals — formatted uniformly.\n",
    "\n",
    "      **3. Natural density of key phrases**  \n",
    "      - Ensure that key phrases and terms are not violated by formatting or breaks in Markdown.  \n",
    "      - Maintain readability — do not insert links inside key words if this distorts the meaning.\n",
    "\n",
    "      **4. Sources section**  \n",
    "      - Check that the `## Sources` section is at the very end.  \n",
    "      - Each link in it is formatted as:  \n",
    "        `[Author or publication – Article title](URL) (Date accessed: YYYY-MM-DD)`.  \n",
    "      - Ensure that the list is sorted alphabetically and does not contain duplicates.\n",
    "     \n",
    "    Capture the main points. \n",
    "    # Company Snapshot (1-2 paragraphs)\n",
    "    # Development Timeline (major milestones)\n",
    "    # Products & Technology (key productes, servises, offers and technologies)\n",
    "    # Business Model & Monetization (how they make money: payment plans, B2B/B2C channels, unit-economics)\n",
    "    # Tokenomics (if applicable)\n",
    "    # Market Position & Competition (Target Segments, Benchmarked competitors, Competitive Moat & KPIs)\n",
    "    # Partnerships & Clients (list of Tier-1 partners, integrations, cast-offs)\n",
    "    # Roadmap & Strategic Outlook (public plans + expert assessment of realism)\"\"\"\n",
    ")\n",
    "\n",
    "class ReportData(BaseModel):\n",
    "    short_summary: str = Field(description=\"A short 2-3 sentence summary of the findings.\")\n",
    "    markdown_report: str = Field(description=\"The final report\")\n",
    "\n",
    "\n",
    "writer_agent = Agent(\n",
    "    name=\"WriterAgent\",\n",
    "    instructions=WRITER_INSTRUCTIONS,\n",
    "    model=\"gpt-4o-mini\",\n",
    "    output_type=ReportData,\n",
    ")"
   ]
  },
  {
   "cell_type": "code",
   "execution_count": null,
   "metadata": {},
   "outputs": [],
   "source": [
    "with trace(\"Writer\"):\n",
    "    result = await Runner.run(writer_agent, deep_search_result.final_output)\n",
    "\n",
    "display(Markdown(result.final_output.short_summary))"
   ]
  },
  {
   "cell_type": "code",
   "execution_count": null,
   "metadata": {},
   "outputs": [],
   "source": [
    "display(Markdown(result.final_output.short_summary))"
   ]
  },
  {
   "cell_type": "markdown",
   "metadata": {},
   "source": [
    "## Putting all together"
   ]
  },
  {
   "cell_type": "markdown",
   "metadata": {},
   "source": [
    "#### Researching"
   ]
  },
  {
   "cell_type": "code",
   "execution_count": 61,
   "metadata": {},
   "outputs": [],
   "source": [
    "async def initial_research(query: str):\n",
    "    \"\"\" Use the initial_research_agent to perform the initial research to get the draft of the report \"\"\"\n",
    "    print(\"Initial researches...\")\n",
    "    result = await Runner.run(initial_research_agent, f\"Query: {query}\")\n",
    "    return result.final_output\n",
    "\n",
    "async def plan_searches(query: str):\n",
    "    \"\"\" Use the planner_agent to plan which searches to run for the query \"\"\"\n",
    "    print(\"Planning searches...\")\n",
    "    result = await Runner.run(planner_agent, f\"Query: {query}\")\n",
    "    print(f\"Will perform {len(result.final_output.searches)} searches\")\n",
    "    return result.final_output\n",
    "\n",
    "async def search(item: WebSearchItem):\n",
    "    \"\"\" Use the search agent to run a web search for each item in the search plan \"\"\"\n",
    "    input = f\"Search term: {item.query}\\nReason for searching: {item.reason}\"\n",
    "    result = await Runner.run(search_agent, input)\n",
    "    return result.final_output\n",
    "\n",
    "async def perform_searches(search_plan: WebSearchPlan):\n",
    "    \"\"\" Call search() for each item in the search plan \"\"\"\n",
    "    print(\"Searching...\")\n",
    "    tasks = [asyncio.create_task(search(item)) for item in search_plan.searches]\n",
    "    results = await asyncio.gather(*tasks)\n",
    "    print(\"Finished searching\")\n",
    "    return results"
   ]
  },
  {
   "cell_type": "markdown",
   "metadata": {},
   "source": [
    "#### Report Creation"
   ]
  },
  {
   "cell_type": "code",
   "execution_count": 62,
   "metadata": {},
   "outputs": [],
   "source": [
    "async def write_report(query: str, search_results: list[str]):\n",
    "    \"\"\" Use the writer agent to write a report based on the search results\"\"\"\n",
    "    print(\"Thinking about report...\")\n",
    "    input = f\"Original query: {query}\\nSummarized search results: {search_results}\"\n",
    "    result = await Runner.run(writer_agent, input)\n",
    "    print(\"Finished writing report\")\n",
    "    return result.final_output\n"
   ]
  },
  {
   "cell_type": "code",
   "execution_count": null,
   "metadata": {},
   "outputs": [],
   "source": [
    "query = \"Perform a comprehensive analysis of the company Broxus (https://broxus.com/)\"\n",
    "\n",
    "with trace(\"Deep Research trace\"):\n",
    "    print(\"Starting research...\")\n",
    "    initial_research = await initial_research(query)\n",
    "    search_plan = await plan_searches(initial_research)\n",
    "    search_results = await perform_searches(search_plan)\n",
    "    report = await write_report(query, search_results)\n",
    "    display(Markdown(report.markdown_report))\n"
   ]
  },
  {
   "cell_type": "code",
   "execution_count": null,
   "metadata": {},
   "outputs": [],
   "source": []
  }
 ],
 "metadata": {
  "kernelspec": {
   "display_name": ".venv",
   "language": "python",
   "name": "python3"
  },
  "language_info": {
   "codemirror_mode": {
    "name": "ipython",
    "version": 3
   },
   "file_extension": ".py",
   "mimetype": "text/x-python",
   "name": "python",
   "nbconvert_exporter": "python",
   "pygments_lexer": "ipython3",
   "version": "3.12.9"
  }
 },
 "nbformat": 4,
 "nbformat_minor": 2
}
